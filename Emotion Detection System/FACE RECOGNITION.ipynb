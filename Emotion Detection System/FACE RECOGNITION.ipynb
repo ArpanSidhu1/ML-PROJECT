{
 "cells": [
  {
   "cell_type": "markdown",
   "id": "0da2b45e",
   "metadata": {},
   "source": [
    "# FACE RECOGNITION USING OPEN CV BUILT IN RECOGNIZER :\n",
    "\n",
    "##### Types of Face Recognizer :- \n",
    "1) LBPH FACERECOGNIZER_Create() : LBPH is a texture-based approach that considers the local structure of an image. It extracts histograms of local image patterns, making it robust to lighting changes.\n",
    "\n",
    "2) Fisherfaces : Linear Discriminant Analysis (LDA) to find the most discriminant features between classes.\n",
    "\n",
    "3) Eigenfaces : This algorithm uses Principal Component Analysis (PCA) for dimensionality reduction to represent faces and recognizes faces based on these reduced representations."
   ]
  },
  {
   "cell_type": "code",
   "execution_count": 1,
   "id": "0c9dc9fb",
   "metadata": {},
   "outputs": [],
   "source": [
    "import os \n",
    "import cv2\n",
    "import numpy as np"
   ]
  },
  {
   "cell_type": "code",
   "execution_count": 22,
   "id": "0118b021",
   "metadata": {},
   "outputs": [
    {
     "name": "stdout",
     "output_type": "stream",
     "text": [
      "['Ben Afflek', 'Elton John', 'Jerry Seinfield', 'Madonna', 'Mindy Kaling']\n"
     ]
    }
   ],
   "source": [
    "# First Method : is to type the name manually.\n",
    "#l = ['BEN AFFLEK','ELTON JOHN','JERRY SEINFIELD','MADONNA','MINDY KAILING']\n",
    "\n",
    "# Second Method : using listdir\n",
    "\n",
    "people =  []\n",
    "for i in os.listdir(r'D:\\OPEN CV\\opencv-course-master\\opencv-course-master\\Resources\\Faces\\train'):\n",
    "    people.append(i)\n",
    "print(people)    \n",
    " \n",
    "# r is used before the string to declare the string as raw which means (\\) is used a backslash\n",
    "# \\n means new line therefore to dealwith it we use r before the string"
   ]
  },
  {
   "cell_type": "code",
   "execution_count": 16,
   "id": "3f29c563",
   "metadata": {},
   "outputs": [
    {
     "name": "stdout",
     "output_type": "stream",
     "text": [
      "Length of the Features List :  103\n",
      "Length of Labels List : 103\n"
     ]
    }
   ],
   "source": [
    "DIR = r\"D:\\OPEN CV\\opencv-course-master\\opencv-course-master\\Resources\\Faces\\train\"\n",
    "\n",
    "haar_cascade = cv2.CascadeClassifier('D:\\PROJECT - 1\\haarcascade_frontalface_default.xml')\n",
    "\n",
    "features = [] #image arrays of the faces.\n",
    "\n",
    "labels = [] #whose face does it belong to corresponding to the features.\n",
    " \n",
    "# labels = [0,1,2,3,4,5,6,7]\n",
    "# labels[0] -> it is depicting ben afflek.\n",
    "\n",
    "# this function will loop over all the folder inside the base folder.\n",
    "def create_train():\n",
    "    \n",
    "    for person in people:\n",
    "        path = os.path.join(DIR,person)\n",
    "        label = people.index(person)\n",
    "        \n",
    "        for img in os.listdir(path):\n",
    "            \n",
    "            img_path = os.path.join(path,img)\n",
    "            \n",
    "            img_array = cv2.imread(img_path)\n",
    "            gray = cv2.cvtColor(img_array,cv2.COLOR_BGR2GRAY)\n",
    "            \n",
    "            faces_rect = haar_cascade.detectMultiScale(gray,scaleFactor=1.1,minNeighbors=3)\n",
    "            \n",
    "            for (x,y,w,h) in faces_rect:\n",
    "                faces_roi = gray[y:y+h,x:x+w] # we are just cropping out the faces.\n",
    "                features.append(faces_roi)\n",
    "                labels.append(label)\n",
    "\n",
    "create_train()\n",
    "\n",
    "print(f'Length of the Features List :  {len(features)}')\n",
    "print(f'Length of Labels List : {len(labels)}')\n",
    "\n",
    "# f before a string provides concise and convinenant way to format the String."
   ]
  },
  {
   "cell_type": "markdown",
   "id": "cabd531f",
   "metadata": {},
   "source": [
    "### Features List : Appended with Cropped faces Arrays.\n",
    "\n",
    "### Labels List : Appended with their corresponding index."
   ]
  },
  {
   "cell_type": "code",
   "execution_count": 21,
   "id": "69180a95",
   "metadata": {},
   "outputs": [
    {
     "name": "stdout",
     "output_type": "stream",
     "text": [
      "-----------------------TRAINING DONE---------------------------\n"
     ]
    }
   ],
   "source": [
    "# OPEN CV BUILT IN RECOGNIZER :\n",
    "\n",
    "face_recognizer = cv2.face.LBPHFaceRecognizer_create()\n",
    "\n",
    "features = np.array(features,dtype='object')  # converting into np makes the data compatible with the model.\n",
    "labels = np.array(labels)\n",
    "\n",
    "# Train the recognizer on the features list and the Labels List :- \n",
    "face_recognizer.train(features,labels)\n",
    "\n",
    "print(\"-----------------------TRAINING DONE---------------------------\")\n",
    "\n",
    "face_recognizer.save('D:\\\\FACE_DETECTION\\\\face_trained.yml')\n",
    "np.save('D:\\\\FACE_DETECTION\\\\features.npy',features)\n",
    "np.save('D:\\\\FACE_DETECTION\\\\labels.npy',labels)\n"
   ]
  },
  {
   "cell_type": "code",
   "execution_count": 56,
   "id": "152fe71a",
   "metadata": {},
   "outputs": [
    {
     "name": "stdout",
     "output_type": "stream",
     "text": [
      "LABEL : Elton John with a confidence of : 90.89414434305048\n"
     ]
    },
    {
     "data": {
      "text/plain": [
       "-1"
      ]
     },
     "execution_count": 56,
     "metadata": {},
     "output_type": "execute_result"
    }
   ],
   "source": [
    "import cv2\n",
    "import numpy as np\n",
    "\n",
    "\n",
    "haar_cascade = cv2.CascadeClassifier(\"D:\\PROJECT - 1\\haarcascade_frontalface_default.xml\")\n",
    "\n",
    "people = ['Ben Afflek', 'Elton John', 'Jerry Seinfield', 'Madonna', 'Mindy Kaling']\n",
    "\n",
    "features = np.load('features.npy',allow_pickle=True)\n",
    "labels = np.load('labels.npy',allow_pickle=True)\n",
    "\n",
    "face_recognizer = cv2.face.LBPHFaceRecognizer_create()\n",
    "\n",
    "face_recognizer.read('D:\\\\FACE_DETECTION\\\\face_trained.yml')\n",
    "\n",
    "img = cv2.imread(r'D:\\OPEN CV\\opencv-course-master\\opencv-course-master\\Resources\\Faces\\val\\madonna\\2.jpg')\n",
    "\n",
    "gray = cv2.cvtColor(img, cv2.COLOR_BGR2GRAY)\n",
    "\n",
    "cv2.imshow('IMAGE',gray)\n",
    "\n",
    "# DETECTING THE FACE IN THE IMAGE\n",
    "\n",
    "faces_rect = haar_cascade.detectMultiScale(gray,1.1,4)\n",
    "\n",
    "for x,y,w,h in faces_rect:\n",
    "    \n",
    "    faces_roi = gray[y:y+h,x:x+w]\n",
    "    \n",
    "    label,confidence = face_recognizer.predict(faces_roi)\n",
    "    \n",
    "    print(f'LABEL : {people[label]} with a confidence of : {confidence}')\n",
    "    \n",
    "    cv2.putText(img,str(people[label]),(20,20),cv2.FONT_HERSHEY_COMPLEX,1.0,(0,255,0),2)\n",
    "    \n",
    "    cv2.rectangle(img,(x,y),(x+w,y+h),(0,255,0),2)\n",
    "\n",
    "cv2.imshow('DETECTED FACE :   ',img)\n",
    "\n",
    "cv2.waitKey(0)"
   ]
  },
  {
   "cell_type": "code",
   "execution_count": null,
   "id": "2715fabe",
   "metadata": {},
   "outputs": [],
   "source": []
  }
 ],
 "metadata": {
  "kernelspec": {
   "display_name": "Python 3 (ipykernel)",
   "language": "python",
   "name": "python3"
  },
  "language_info": {
   "codemirror_mode": {
    "name": "ipython",
    "version": 3
   },
   "file_extension": ".py",
   "mimetype": "text/x-python",
   "name": "python",
   "nbconvert_exporter": "python",
   "pygments_lexer": "ipython3",
   "version": "3.11.1"
  }
 },
 "nbformat": 4,
 "nbformat_minor": 5
}
