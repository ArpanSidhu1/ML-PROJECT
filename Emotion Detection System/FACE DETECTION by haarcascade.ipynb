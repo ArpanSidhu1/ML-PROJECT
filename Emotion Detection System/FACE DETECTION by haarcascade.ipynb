{
 "cells": [
  {
   "cell_type": "markdown",
   "id": "a4e73a17",
   "metadata": {},
   "source": [
    "# FACE DETECTION : \n",
    "\n",
    "1) HAAR CASCADES -> pre defined binary classifier provided by OPEN CV to detect various charactersticks like faces,eyes,full body.\n",
    "\n",
    "2) we are going to use haarcascade_frontalface_default.xml  \n",
    "   - they do not use color on the basis of edges they decide whether there is a face or not"
   ]
  },
  {
   "cell_type": "code",
   "execution_count": 17,
   "id": "8408e60f",
   "metadata": {},
   "outputs": [
    {
     "name": "stdout",
     "output_type": "stream",
     "text": [
      "6\n"
     ]
    },
    {
     "data": {
      "text/plain": [
       "-1"
      ]
     },
     "execution_count": 17,
     "metadata": {},
     "output_type": "execute_result"
    }
   ],
   "source": [
    "import cv2\n",
    "\n",
    "img = cv2.imread(\"D:\\\\OPEN CV\\\\PHOTOS\\\\8.jpg\")\n",
    "\n",
    "gray = cv2.cvtColor(img,cv2.COLOR_BGR2GRAY)\n",
    "\n",
    "#cv2.imshow('IMAGE',gray)\n",
    "\n",
    "haar_cascade = cv2.CascadeClassifier(\"D:\\PROJECT - 1\\haarcascade_frontalface_default.xml\")\n",
    "faces_rect= haar_cascade.detectMultiScale(gray,scaleFactor=1.1,minNeighbors=2)\n",
    "\n",
    "for x,y,w,h in faces_rect:\n",
    "    cv2.rectangle(img, (x,y) ,(x+w,y+h) ,(0,255,0),thickness=2)\n",
    "\n",
    "print(len(faces_rect))\n",
    "cv2.imshow('DETECTED FACES : ',img)\n",
    "\n",
    "cv2.waitKey(0)"
   ]
  },
  {
   "cell_type": "code",
   "execution_count": null,
   "id": "fe5112ae",
   "metadata": {},
   "outputs": [],
   "source": []
  },
  {
   "cell_type": "code",
   "execution_count": null,
   "id": "73f33cba",
   "metadata": {},
   "outputs": [],
   "source": []
  }
 ],
 "metadata": {
  "kernelspec": {
   "display_name": "Python 3 (ipykernel)",
   "language": "python",
   "name": "python3"
  },
  "language_info": {
   "codemirror_mode": {
    "name": "ipython",
    "version": 3
   },
   "file_extension": ".py",
   "mimetype": "text/x-python",
   "name": "python",
   "nbconvert_exporter": "python",
   "pygments_lexer": "ipython3",
   "version": "3.11.1"
  }
 },
 "nbformat": 4,
 "nbformat_minor": 5
}
